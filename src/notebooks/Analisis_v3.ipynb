{
 "cells": [
  {
   "cell_type": "code",
   "execution_count": 66,
   "metadata": {},
   "outputs": [],
   "source": [
    "import matplotlib.pyplot as plt\n",
    "import numpy as np\n",
    "import pandas as pd\n",
    "import seaborn as sns\n",
    "import random\n",
    "import sys #Tengo que importarlo para poder traer funciones de dentro de utils, sino solo me dejaba metiendo los archivos.py en la carpeta notebooks\n",
    "sys.path.append(\"c:/Users/Guillermo/BOOTCAMP/guillermo_castillon_EDA/src/utils\")\n",
    "from limpieza import limpieza"
   ]
  },
  {
   "cell_type": "code",
   "execution_count": 67,
   "metadata": {},
   "outputs": [],
   "source": [
    "netflix = pd.read_csv('../data/netflix_titles_nuevo.csv')\n",
    "amazon = pd.read_csv('../data/amazon_titles_nuevo.csv')\n",
    "hbo = pd.read_csv('../data/hbo_titles.csv')\n",
    "imdb_top_movies = pd.read_csv('../data/imdb_top_250_movies.csv', encoding='latin1')\n",
    "imdb_top_tv = pd.read_csv('../data/imdb_Top_250_TV_Shows.csv')\n",
    "mis_calificaciones = pd.read_csv('../data/mis_calificaciones_imdb.csv')"
   ]
  },
  {
   "cell_type": "markdown",
   "metadata": {},
   "source": [
    "### Reglas De Limpieza\n",
    "1. Eliminar filas con nulos en la columna \"title\"\n",
    "2. Eliminar duplicados \n",
    "3. Drop de la columna imbdId\n",
    "4. Eliminar filas con mas de 2 nulos\n",
    "5. Eliminar filas con nulos en \"genres\"\n",
    "6. rellenado de nulos en ratings y numero de votos con medias, desviaciones tipicas y valores aleatorios basados en ambas\n",
    "7. Revisar y limpieza y recorregir"
   ]
  },
  {
   "cell_type": "code",
   "execution_count": 68,
   "metadata": {},
   "outputs": [],
   "source": [
    "limpiador=limpieza()"
   ]
  },
  {
   "cell_type": "code",
   "execution_count": 69,
   "metadata": {},
   "outputs": [],
   "source": [
    "amazon_limpio=limpiador.limpiar_dataset(df=amazon)\n",
    "hbo_limpio=limpiador.limpiar_dataset(df=hbo)\n",
    "netflix_limpio=limpiador.limpiar_dataset(df=netflix)"
   ]
  },
  {
   "cell_type": "code",
   "execution_count": 70,
   "metadata": {},
   "outputs": [
    {
     "name": "stdout",
     "output_type": "stream",
     "text": [
      "<class 'pandas.core.frame.DataFrame'>\n",
      "Index: 61235 entries, 0 to 68619\n",
      "Data columns (total 7 columns):\n",
      " #   Column              Non-Null Count  Dtype  \n",
      "---  ------              --------------  -----  \n",
      " 0   title               61235 non-null  object \n",
      " 1   type                61235 non-null  object \n",
      " 2   genres              61235 non-null  object \n",
      " 3   releaseYear         61235 non-null  float64\n",
      " 4   imdbAverageRating   61235 non-null  float64\n",
      " 5   imdbNumVotes        61235 non-null  float64\n",
      " 6   availableCountries  61235 non-null  object \n",
      "dtypes: float64(3), object(4)\n",
      "memory usage: 3.7+ MB\n"
     ]
    }
   ],
   "source": [
    "amazon_limpio.info()"
   ]
  },
  {
   "cell_type": "code",
   "execution_count": 71,
   "metadata": {},
   "outputs": [
    {
     "name": "stdout",
     "output_type": "stream",
     "text": [
      "<class 'pandas.core.frame.DataFrame'>\n",
      "Index: 18810 entries, 0 to 20187\n",
      "Data columns (total 7 columns):\n",
      " #   Column              Non-Null Count  Dtype  \n",
      "---  ------              --------------  -----  \n",
      " 0   title               18810 non-null  object \n",
      " 1   type                18810 non-null  object \n",
      " 2   genres              18810 non-null  object \n",
      " 3   releaseYear         18810 non-null  float64\n",
      " 4   imdbAverageRating   18810 non-null  float64\n",
      " 5   imdbNumVotes        18810 non-null  float64\n",
      " 6   availableCountries  18810 non-null  object \n",
      "dtypes: float64(3), object(4)\n",
      "memory usage: 1.1+ MB\n"
     ]
    }
   ],
   "source": [
    "netflix_limpio.info()"
   ]
  },
  {
   "cell_type": "code",
   "execution_count": 72,
   "metadata": {},
   "outputs": [
    {
     "name": "stdout",
     "output_type": "stream",
     "text": [
      "<class 'pandas.core.frame.DataFrame'>\n",
      "Index: 6925 entries, 0 to 7341\n",
      "Data columns (total 7 columns):\n",
      " #   Column              Non-Null Count  Dtype  \n",
      "---  ------              --------------  -----  \n",
      " 0   title               6925 non-null   object \n",
      " 1   type                6925 non-null   object \n",
      " 2   genres              6925 non-null   object \n",
      " 3   releaseYear         6925 non-null   float64\n",
      " 4   imdbAverageRating   6925 non-null   float64\n",
      " 5   imdbNumVotes        6925 non-null   float64\n",
      " 6   availableCountries  6925 non-null   object \n",
      "dtypes: float64(3), object(4)\n",
      "memory usage: 432.8+ KB\n"
     ]
    }
   ],
   "source": [
    "hbo_limpio.info()"
   ]
  },
  {
   "cell_type": "code",
   "execution_count": 73,
   "metadata": {},
   "outputs": [
    {
     "name": "stdout",
     "output_type": "stream",
     "text": [
      "<class 'pandas.core.frame.DataFrame'>\n",
      "RangeIndex: 250 entries, 0 to 249\n",
      "Data columns (total 8 columns):\n",
      " #   Column               Non-Null Count  Dtype  \n",
      "---  ------               --------------  -----  \n",
      " 0   Title                250 non-null    object \n",
      " 1   Release_year         250 non-null    int64  \n",
      " 2   Duration             250 non-null    object \n",
      " 3   Duration_in_minutes  250 non-null    int64  \n",
      " 4   Rating               250 non-null    float64\n",
      " 5   Content_rating       245 non-null    object \n",
      " 6   No_of_votes          250 non-null    object \n",
      " 7   No_of_votes_numeric  250 non-null    int64  \n",
      "dtypes: float64(1), int64(3), object(4)\n",
      "memory usage: 15.8+ KB\n"
     ]
    }
   ],
   "source": [
    "imdb_top_movies.info()"
   ]
  },
  {
   "cell_type": "code",
   "execution_count": 74,
   "metadata": {},
   "outputs": [
    {
     "name": "stdout",
     "output_type": "stream",
     "text": [
      "<class 'pandas.core.frame.DataFrame'>\n",
      "RangeIndex: 250 entries, 0 to 249\n",
      "Data columns (total 5 columns):\n",
      " #   Column                  Non-Null Count  Dtype  \n",
      "---  ------                  --------------  -----  \n",
      " 0   Shows Name              250 non-null    object \n",
      " 1   Release Year            250 non-null    object \n",
      " 2   Episodes                250 non-null    object \n",
      " 3   Rating                  250 non-null    float64\n",
      " 4   Rating given by people  250 non-null    object \n",
      "dtypes: float64(1), object(4)\n",
      "memory usage: 9.9+ KB\n"
     ]
    }
   ],
   "source": [
    "imdb_top_tv.info()"
   ]
  },
  {
   "cell_type": "code",
   "execution_count": 75,
   "metadata": {},
   "outputs": [
    {
     "name": "stdout",
     "output_type": "stream",
     "text": [
      "<class 'pandas.core.frame.DataFrame'>\n",
      "RangeIndex: 197 entries, 0 to 196\n",
      "Data columns (total 14 columns):\n",
      " #   Column          Non-Null Count  Dtype  \n",
      "---  ------          --------------  -----  \n",
      " 0   Const           197 non-null    object \n",
      " 1   Your Rating     197 non-null    int64  \n",
      " 2   Date Rated      197 non-null    object \n",
      " 3   Title           197 non-null    object \n",
      " 4   Original Title  197 non-null    object \n",
      " 5   URL             197 non-null    object \n",
      " 6   Title Type      197 non-null    object \n",
      " 7   IMDb Rating     197 non-null    float64\n",
      " 8   Runtime (mins)  197 non-null    int64  \n",
      " 9   Year            197 non-null    int64  \n",
      " 10  Genres          197 non-null    object \n",
      " 11  Num Votes       197 non-null    int64  \n",
      " 12  Release Date    197 non-null    object \n",
      " 13  Directors       196 non-null    object \n",
      "dtypes: float64(1), int64(4), object(9)\n",
      "memory usage: 21.7+ KB\n"
     ]
    }
   ],
   "source": [
    "mis_calificaciones.info()"
   ]
  },
  {
   "cell_type": "code",
   "execution_count": null,
   "metadata": {},
   "outputs": [],
   "source": []
  }
 ],
 "metadata": {
  "kernelspec": {
   "display_name": "Python 3",
   "language": "python",
   "name": "python3"
  },
  "language_info": {
   "codemirror_mode": {
    "name": "ipython",
    "version": 3
   },
   "file_extension": ".py",
   "mimetype": "text/x-python",
   "name": "python",
   "nbconvert_exporter": "python",
   "pygments_lexer": "ipython3",
   "version": "3.11.3"
  }
 },
 "nbformat": 4,
 "nbformat_minor": 2
}
