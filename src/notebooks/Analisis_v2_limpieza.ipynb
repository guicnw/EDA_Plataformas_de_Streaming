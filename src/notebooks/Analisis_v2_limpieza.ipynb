{
 "cells": [
  {
   "cell_type": "code",
   "execution_count": 1,
   "metadata": {},
   "outputs": [],
   "source": [
    "import matplotlib.pyplot as plt\n",
    "import numpy as np\n",
    "import pandas as pd\n",
    "import seaborn as sns\n",
    "import random"
   ]
  },
  {
   "cell_type": "code",
   "execution_count": 2,
   "metadata": {},
   "outputs": [],
   "source": [
    "#Cargo todos los datasets Me he quedado con los nuevos para normalizar la info (mirar versiones anteriores)\n",
    "netflix = pd.read_csv('../data/netflix_titles_nuevo.csv')\n",
    "amazon = pd.read_csv('../data/amazon_titles_nuevo.csv')\n",
    "hbo = pd.read_csv('../data/hbo_titles.csv')\n",
    "imdb_top_movies = pd.read_csv('../data/imdb_top_250_movies.csv', encoding='latin1')\n",
    "imdb_top_tv = pd.read_csv('../data/imdb_Top_250_TV_Shows.csv')\n",
    "mis_calificaciones = pd.read_csv('../data/mis_calificaciones_imdb.csv')"
   ]
  },
  {
   "cell_type": "code",
   "execution_count": 3,
   "metadata": {},
   "outputs": [],
   "source": [
    "def examinar_dataset(df,df_entrecomillado):\n",
    "    print(f\"Examinando dataframe: {df_entrecomillado} \\n\")\n",
    "    print(\"\\nInformación del dataset:\")\n",
    "    print(df.info())\n",
    "    print(\"\\nValores nulos:\")\n",
    "    print(df.isna().sum())\n",
    "    print(\"Primeras 5 filas:\\n\")\n",
    "    display(df.head())"
   ]
  },
  {
   "cell_type": "code",
   "execution_count": 4,
   "metadata": {},
   "outputs": [
    {
     "name": "stdout",
     "output_type": "stream",
     "text": [
      "Examinando dataframe: netflix \n",
      "\n",
      "\n",
      "Información del dataset:\n",
      "<class 'pandas.core.frame.DataFrame'>\n",
      "RangeIndex: 20195 entries, 0 to 20194\n",
      "Data columns (total 8 columns):\n",
      " #   Column              Non-Null Count  Dtype  \n",
      "---  ------              --------------  -----  \n",
      " 0   title               19684 non-null  object \n",
      " 1   type                20195 non-null  object \n",
      " 2   genres              19925 non-null  object \n",
      " 3   releaseYear         20182 non-null  float64\n",
      " 4   imdbId              18887 non-null  object \n",
      " 5   imdbAverageRating   18734 non-null  float64\n",
      " 6   imdbNumVotes        18734 non-null  float64\n",
      " 7   availableCountries  20195 non-null  object \n",
      "dtypes: float64(3), object(5)\n",
      "memory usage: 1.2+ MB\n",
      "None\n",
      "\n",
      "Valores nulos:\n",
      "title                  511\n",
      "type                     0\n",
      "genres                 270\n",
      "releaseYear             13\n",
      "imdbId                1308\n",
      "imdbAverageRating     1461\n",
      "imdbNumVotes          1461\n",
      "availableCountries       0\n",
      "dtype: int64\n",
      "Primeras 5 filas:\n",
      "\n"
     ]
    },
    {
     "data": {
      "text/html": [
       "<div>\n",
       "<style scoped>\n",
       "    .dataframe tbody tr th:only-of-type {\n",
       "        vertical-align: middle;\n",
       "    }\n",
       "\n",
       "    .dataframe tbody tr th {\n",
       "        vertical-align: top;\n",
       "    }\n",
       "\n",
       "    .dataframe thead th {\n",
       "        text-align: right;\n",
       "    }\n",
       "</style>\n",
       "<table border=\"1\" class=\"dataframe\">\n",
       "  <thead>\n",
       "    <tr style=\"text-align: right;\">\n",
       "      <th></th>\n",
       "      <th>title</th>\n",
       "      <th>type</th>\n",
       "      <th>genres</th>\n",
       "      <th>releaseYear</th>\n",
       "      <th>imdbId</th>\n",
       "      <th>imdbAverageRating</th>\n",
       "      <th>imdbNumVotes</th>\n",
       "      <th>availableCountries</th>\n",
       "    </tr>\n",
       "  </thead>\n",
       "  <tbody>\n",
       "    <tr>\n",
       "      <th>0</th>\n",
       "      <td>The Fifth Element</td>\n",
       "      <td>movie</td>\n",
       "      <td>Action, Adventure, Sci-Fi</td>\n",
       "      <td>1997.0</td>\n",
       "      <td>tt0119116</td>\n",
       "      <td>7.6</td>\n",
       "      <td>518792.0</td>\n",
       "      <td>AT, CH, DE</td>\n",
       "    </tr>\n",
       "    <tr>\n",
       "      <th>1</th>\n",
       "      <td>Kill Bill: Vol. 1</td>\n",
       "      <td>movie</td>\n",
       "      <td>Action, Crime, Thriller</td>\n",
       "      <td>2003.0</td>\n",
       "      <td>tt0266697</td>\n",
       "      <td>8.2</td>\n",
       "      <td>1226977.0</td>\n",
       "      <td>AE, AL, AO, AT, AU, AZ, BG, BH, BY, CA, CI, CM...</td>\n",
       "    </tr>\n",
       "    <tr>\n",
       "      <th>2</th>\n",
       "      <td>Jarhead</td>\n",
       "      <td>movie</td>\n",
       "      <td>Biography, Drama, War</td>\n",
       "      <td>2005.0</td>\n",
       "      <td>tt0418763</td>\n",
       "      <td>7.0</td>\n",
       "      <td>212517.0</td>\n",
       "      <td>AD, AE, AG, AO, BH, BM, BR, BS, BZ, CI, CM, CO...</td>\n",
       "    </tr>\n",
       "    <tr>\n",
       "      <th>3</th>\n",
       "      <td>Unforgiven</td>\n",
       "      <td>movie</td>\n",
       "      <td>Drama, Western</td>\n",
       "      <td>1992.0</td>\n",
       "      <td>tt0105695</td>\n",
       "      <td>8.2</td>\n",
       "      <td>446033.0</td>\n",
       "      <td>AU, BA, BG, CZ, HR, HU, MD, ME, MK, NZ, PL, RO...</td>\n",
       "    </tr>\n",
       "    <tr>\n",
       "      <th>4</th>\n",
       "      <td>Eternal Sunshine of the Spotless Mind</td>\n",
       "      <td>movie</td>\n",
       "      <td>Drama, Romance, Sci-Fi</td>\n",
       "      <td>2004.0</td>\n",
       "      <td>tt0338013</td>\n",
       "      <td>8.3</td>\n",
       "      <td>1111601.0</td>\n",
       "      <td>AD, AE, AG, AL, AO, AR, AU, AZ, BA, BB, BE, BG...</td>\n",
       "    </tr>\n",
       "  </tbody>\n",
       "</table>\n",
       "</div>"
      ],
      "text/plain": [
       "                                   title   type                     genres  \\\n",
       "0                      The Fifth Element  movie  Action, Adventure, Sci-Fi   \n",
       "1                      Kill Bill: Vol. 1  movie    Action, Crime, Thriller   \n",
       "2                                Jarhead  movie      Biography, Drama, War   \n",
       "3                             Unforgiven  movie             Drama, Western   \n",
       "4  Eternal Sunshine of the Spotless Mind  movie     Drama, Romance, Sci-Fi   \n",
       "\n",
       "   releaseYear     imdbId  imdbAverageRating  imdbNumVotes  \\\n",
       "0       1997.0  tt0119116                7.6      518792.0   \n",
       "1       2003.0  tt0266697                8.2     1226977.0   \n",
       "2       2005.0  tt0418763                7.0      212517.0   \n",
       "3       1992.0  tt0105695                8.2      446033.0   \n",
       "4       2004.0  tt0338013                8.3     1111601.0   \n",
       "\n",
       "                                  availableCountries  \n",
       "0                                         AT, CH, DE  \n",
       "1  AE, AL, AO, AT, AU, AZ, BG, BH, BY, CA, CI, CM...  \n",
       "2  AD, AE, AG, AO, BH, BM, BR, BS, BZ, CI, CM, CO...  \n",
       "3  AU, BA, BG, CZ, HR, HU, MD, ME, MK, NZ, PL, RO...  \n",
       "4  AD, AE, AG, AL, AO, AR, AU, AZ, BA, BB, BE, BG...  "
      ]
     },
     "metadata": {},
     "output_type": "display_data"
    },
    {
     "name": "stdout",
     "output_type": "stream",
     "text": [
      "Examinando dataframe: amazon \n",
      "\n",
      "\n",
      "Información del dataset:\n",
      "<class 'pandas.core.frame.DataFrame'>\n",
      "RangeIndex: 68620 entries, 0 to 68619\n",
      "Data columns (total 8 columns):\n",
      " #   Column              Non-Null Count  Dtype  \n",
      "---  ------              --------------  -----  \n",
      " 0   title               67178 non-null  object \n",
      " 1   type                68620 non-null  object \n",
      " 2   genres              66744 non-null  object \n",
      " 3   releaseYear         68454 non-null  float64\n",
      " 4   imdbId              62808 non-null  object \n",
      " 5   imdbAverageRating   60633 non-null  float64\n",
      " 6   imdbNumVotes        60633 non-null  float64\n",
      " 7   availableCountries  68620 non-null  object \n",
      "dtypes: float64(3), object(5)\n",
      "memory usage: 4.2+ MB\n",
      "None\n",
      "\n",
      "Valores nulos:\n",
      "title                 1442\n",
      "type                     0\n",
      "genres                1876\n",
      "releaseYear            166\n",
      "imdbId                5812\n",
      "imdbAverageRating     7987\n",
      "imdbNumVotes          7987\n",
      "availableCountries       0\n",
      "dtype: int64\n",
      "Primeras 5 filas:\n",
      "\n"
     ]
    },
    {
     "data": {
      "text/html": [
       "<div>\n",
       "<style scoped>\n",
       "    .dataframe tbody tr th:only-of-type {\n",
       "        vertical-align: middle;\n",
       "    }\n",
       "\n",
       "    .dataframe tbody tr th {\n",
       "        vertical-align: top;\n",
       "    }\n",
       "\n",
       "    .dataframe thead th {\n",
       "        text-align: right;\n",
       "    }\n",
       "</style>\n",
       "<table border=\"1\" class=\"dataframe\">\n",
       "  <thead>\n",
       "    <tr style=\"text-align: right;\">\n",
       "      <th></th>\n",
       "      <th>title</th>\n",
       "      <th>type</th>\n",
       "      <th>genres</th>\n",
       "      <th>releaseYear</th>\n",
       "      <th>imdbId</th>\n",
       "      <th>imdbAverageRating</th>\n",
       "      <th>imdbNumVotes</th>\n",
       "      <th>availableCountries</th>\n",
       "    </tr>\n",
       "  </thead>\n",
       "  <tbody>\n",
       "    <tr>\n",
       "      <th>0</th>\n",
       "      <td>Blondie</td>\n",
       "      <td>movie</td>\n",
       "      <td>Comedy, Family</td>\n",
       "      <td>1938.0</td>\n",
       "      <td>tt0029927</td>\n",
       "      <td>6.9</td>\n",
       "      <td>889.0</td>\n",
       "      <td>US, ZA</td>\n",
       "    </tr>\n",
       "    <tr>\n",
       "      <th>1</th>\n",
       "      <td>Ariel</td>\n",
       "      <td>movie</td>\n",
       "      <td>Comedy, Crime, Romance</td>\n",
       "      <td>1988.0</td>\n",
       "      <td>tt0094675</td>\n",
       "      <td>7.4</td>\n",
       "      <td>8822.0</td>\n",
       "      <td>JP</td>\n",
       "    </tr>\n",
       "    <tr>\n",
       "      <th>2</th>\n",
       "      <td>Four Rooms</td>\n",
       "      <td>movie</td>\n",
       "      <td>Comedy</td>\n",
       "      <td>1995.0</td>\n",
       "      <td>tt0113101</td>\n",
       "      <td>6.7</td>\n",
       "      <td>112843.0</td>\n",
       "      <td>AT, DE</td>\n",
       "    </tr>\n",
       "    <tr>\n",
       "      <th>3</th>\n",
       "      <td>Judgment Night</td>\n",
       "      <td>movie</td>\n",
       "      <td>Action, Crime, Drama</td>\n",
       "      <td>1993.0</td>\n",
       "      <td>tt0107286</td>\n",
       "      <td>6.6</td>\n",
       "      <td>19377.0</td>\n",
       "      <td>US</td>\n",
       "    </tr>\n",
       "    <tr>\n",
       "      <th>4</th>\n",
       "      <td>Forrest Gump</td>\n",
       "      <td>movie</td>\n",
       "      <td>Drama, Romance</td>\n",
       "      <td>1994.0</td>\n",
       "      <td>tt0109830</td>\n",
       "      <td>8.8</td>\n",
       "      <td>2328816.0</td>\n",
       "      <td>AD, AT, CU, DE, FR, GF, IN, JP, MC, PF, SN</td>\n",
       "    </tr>\n",
       "  </tbody>\n",
       "</table>\n",
       "</div>"
      ],
      "text/plain": [
       "            title   type                  genres  releaseYear     imdbId  \\\n",
       "0         Blondie  movie          Comedy, Family       1938.0  tt0029927   \n",
       "1           Ariel  movie  Comedy, Crime, Romance       1988.0  tt0094675   \n",
       "2      Four Rooms  movie                  Comedy       1995.0  tt0113101   \n",
       "3  Judgment Night  movie    Action, Crime, Drama       1993.0  tt0107286   \n",
       "4    Forrest Gump  movie          Drama, Romance       1994.0  tt0109830   \n",
       "\n",
       "   imdbAverageRating  imdbNumVotes                          availableCountries  \n",
       "0                6.9         889.0                                      US, ZA  \n",
       "1                7.4        8822.0                                          JP  \n",
       "2                6.7      112843.0                                      AT, DE  \n",
       "3                6.6       19377.0                                          US  \n",
       "4                8.8     2328816.0  AD, AT, CU, DE, FR, GF, IN, JP, MC, PF, SN  "
      ]
     },
     "metadata": {},
     "output_type": "display_data"
    },
    {
     "name": "stdout",
     "output_type": "stream",
     "text": [
      "Examinando dataframe: hbo \n",
      "\n",
      "\n",
      "Información del dataset:\n",
      "<class 'pandas.core.frame.DataFrame'>\n",
      "RangeIndex: 7342 entries, 0 to 7341\n",
      "Data columns (total 8 columns):\n",
      " #   Column              Non-Null Count  Dtype  \n",
      "---  ------              --------------  -----  \n",
      " 0   title               7117 non-null   object \n",
      " 1   type                7342 non-null   object \n",
      " 2   genres              7210 non-null   object \n",
      " 3   releaseYear         7329 non-null   float64\n",
      " 4   imdbId              6953 non-null   object \n",
      " 5   imdbAverageRating   6877 non-null   float64\n",
      " 6   imdbNumVotes        6877 non-null   float64\n",
      " 7   availableCountries  7342 non-null   object \n",
      "dtypes: float64(3), object(5)\n",
      "memory usage: 459.0+ KB\n",
      "None\n",
      "\n",
      "Valores nulos:\n",
      "title                 225\n",
      "type                    0\n",
      "genres                132\n",
      "releaseYear            13\n",
      "imdbId                389\n",
      "imdbAverageRating     465\n",
      "imdbNumVotes          465\n",
      "availableCountries      0\n",
      "dtype: int64\n",
      "Primeras 5 filas:\n",
      "\n"
     ]
    },
    {
     "data": {
      "text/html": [
       "<div>\n",
       "<style scoped>\n",
       "    .dataframe tbody tr th:only-of-type {\n",
       "        vertical-align: middle;\n",
       "    }\n",
       "\n",
       "    .dataframe tbody tr th {\n",
       "        vertical-align: top;\n",
       "    }\n",
       "\n",
       "    .dataframe thead th {\n",
       "        text-align: right;\n",
       "    }\n",
       "</style>\n",
       "<table border=\"1\" class=\"dataframe\">\n",
       "  <thead>\n",
       "    <tr style=\"text-align: right;\">\n",
       "      <th></th>\n",
       "      <th>title</th>\n",
       "      <th>type</th>\n",
       "      <th>genres</th>\n",
       "      <th>releaseYear</th>\n",
       "      <th>imdbId</th>\n",
       "      <th>imdbAverageRating</th>\n",
       "      <th>imdbNumVotes</th>\n",
       "      <th>availableCountries</th>\n",
       "    </tr>\n",
       "  </thead>\n",
       "  <tbody>\n",
       "    <tr>\n",
       "      <th>0</th>\n",
       "      <td>The Fifth Element</td>\n",
       "      <td>movie</td>\n",
       "      <td>Action, Adventure, Sci-Fi</td>\n",
       "      <td>1997.0</td>\n",
       "      <td>tt0119116</td>\n",
       "      <td>7.6</td>\n",
       "      <td>518745.0</td>\n",
       "      <td>DK, FI, NO, SE</td>\n",
       "    </tr>\n",
       "    <tr>\n",
       "      <th>1</th>\n",
       "      <td>Jarhead</td>\n",
       "      <td>movie</td>\n",
       "      <td>Biography, Drama, War</td>\n",
       "      <td>2005.0</td>\n",
       "      <td>tt0418763</td>\n",
       "      <td>7.0</td>\n",
       "      <td>212483.0</td>\n",
       "      <td>HK, MY, PH, SG, TW</td>\n",
       "    </tr>\n",
       "    <tr>\n",
       "      <th>2</th>\n",
       "      <td>Unforgiven</td>\n",
       "      <td>movie</td>\n",
       "      <td>Drama, Western</td>\n",
       "      <td>1992.0</td>\n",
       "      <td>tt0105695</td>\n",
       "      <td>8.2</td>\n",
       "      <td>445916.0</td>\n",
       "      <td>AG, AR, BB, BE, BO, BR, BS, BZ, CL, CO, CR, DO...</td>\n",
       "    </tr>\n",
       "    <tr>\n",
       "      <th>3</th>\n",
       "      <td>Eternal Sunshine of the Spotless Mind</td>\n",
       "      <td>movie</td>\n",
       "      <td>Drama, Romance, Sci-Fi</td>\n",
       "      <td>2004.0</td>\n",
       "      <td>tt0338013</td>\n",
       "      <td>8.3</td>\n",
       "      <td>1111333.0</td>\n",
       "      <td>AG, AR, BB, BO, BS, BZ, CL, CO, CR, DO, EC, GT...</td>\n",
       "    </tr>\n",
       "    <tr>\n",
       "      <th>4</th>\n",
       "      <td>A History of Violence</td>\n",
       "      <td>movie</td>\n",
       "      <td>Action, Crime, Drama</td>\n",
       "      <td>2005.0</td>\n",
       "      <td>tt0399146</td>\n",
       "      <td>7.4</td>\n",
       "      <td>259993.0</td>\n",
       "      <td>AG, AR, BB, BO, BR, BS, BZ, CL, CO, CR, DO, EC...</td>\n",
       "    </tr>\n",
       "  </tbody>\n",
       "</table>\n",
       "</div>"
      ],
      "text/plain": [
       "                                   title   type                     genres  \\\n",
       "0                      The Fifth Element  movie  Action, Adventure, Sci-Fi   \n",
       "1                                Jarhead  movie      Biography, Drama, War   \n",
       "2                             Unforgiven  movie             Drama, Western   \n",
       "3  Eternal Sunshine of the Spotless Mind  movie     Drama, Romance, Sci-Fi   \n",
       "4                  A History of Violence  movie       Action, Crime, Drama   \n",
       "\n",
       "   releaseYear     imdbId  imdbAverageRating  imdbNumVotes  \\\n",
       "0       1997.0  tt0119116                7.6      518745.0   \n",
       "1       2005.0  tt0418763                7.0      212483.0   \n",
       "2       1992.0  tt0105695                8.2      445916.0   \n",
       "3       2004.0  tt0338013                8.3     1111333.0   \n",
       "4       2005.0  tt0399146                7.4      259993.0   \n",
       "\n",
       "                                  availableCountries  \n",
       "0                                     DK, FI, NO, SE  \n",
       "1                                 HK, MY, PH, SG, TW  \n",
       "2  AG, AR, BB, BE, BO, BR, BS, BZ, CL, CO, CR, DO...  \n",
       "3  AG, AR, BB, BO, BS, BZ, CL, CO, CR, DO, EC, GT...  \n",
       "4  AG, AR, BB, BO, BR, BS, BZ, CL, CO, CR, DO, EC...  "
      ]
     },
     "metadata": {},
     "output_type": "display_data"
    }
   ],
   "source": [
    "examinar_dataset(netflix, \"netflix\")\n",
    "examinar_dataset(amazon, \"amazon\")\n",
    "examinar_dataset(hbo, \"hbo\")"
   ]
  },
  {
   "cell_type": "markdown",
   "metadata": {},
   "source": [
    "#### Reglas de Limpieza\n",
    "Nulos en title: Eliminar directamente. No tiene sentido tratar contenido que no puede conocerse\n",
    "\n",
    "Eliminar duplicados:\n",
    "Si tienen los mismos valores en todas las columnas, eliminar directamente.\n",
    "Si son duplicados en title o imdbId, me quedo con la primera aparición.\n",
    "\n",
    "Dropeo la columna de imdbId no me hace falta y los nulos se estan considerando duplicados\n",
    "\n",
    "Eliminar nulos:\n",
    "Nulos en imdbAverageRating: Si quedan después de eliminar los de title, los reviso manualmente:\n",
    "Si son películas o series, rellenar con la media del rating correspondiente al tipo.\n",
    "Eliminar filas con más de 2 nulos: Filtrar filas con poca información útil.\n",
    "\n",
    "Volver a revisar info() y revalorar limpieza"
   ]
  },
  {
   "cell_type": "code",
   "execution_count": 5,
   "metadata": {},
   "outputs": [
    {
     "name": "stdout",
     "output_type": "stream",
     "text": [
      "<class 'pandas.core.frame.DataFrame'>\n",
      "RangeIndex: 20195 entries, 0 to 20194\n",
      "Data columns (total 8 columns):\n",
      " #   Column              Non-Null Count  Dtype  \n",
      "---  ------              --------------  -----  \n",
      " 0   title               19684 non-null  object \n",
      " 1   type                20195 non-null  object \n",
      " 2   genres              19925 non-null  object \n",
      " 3   releaseYear         20182 non-null  float64\n",
      " 4   imdbId              18887 non-null  object \n",
      " 5   imdbAverageRating   18734 non-null  float64\n",
      " 6   imdbNumVotes        18734 non-null  float64\n",
      " 7   availableCountries  20195 non-null  object \n",
      "dtypes: float64(3), object(5)\n",
      "memory usage: 1.2+ MB\n"
     ]
    }
   ],
   "source": [
    "netflix.info()"
   ]
  },
  {
   "cell_type": "code",
   "execution_count": 6,
   "metadata": {},
   "outputs": [],
   "source": [
    "#Voy a ver que tal me sale con netflix si me va bien crearé funciones para hacerlo escalable"
   ]
  },
  {
   "cell_type": "code",
   "execution_count": 7,
   "metadata": {},
   "outputs": [],
   "source": [
    "netflix_limpio=netflix.dropna(subset=[\"title\"])"
   ]
  },
  {
   "cell_type": "code",
   "execution_count": 8,
   "metadata": {},
   "outputs": [
    {
     "name": "stdout",
     "output_type": "stream",
     "text": [
      "<class 'pandas.core.frame.DataFrame'>\n",
      "Index: 19684 entries, 0 to 20194\n",
      "Data columns (total 8 columns):\n",
      " #   Column              Non-Null Count  Dtype  \n",
      "---  ------              --------------  -----  \n",
      " 0   title               19684 non-null  object \n",
      " 1   type                19684 non-null  object \n",
      " 2   genres              19533 non-null  object \n",
      " 3   releaseYear         19683 non-null  float64\n",
      " 4   imdbId              18887 non-null  object \n",
      " 5   imdbAverageRating   18734 non-null  float64\n",
      " 6   imdbNumVotes        18734 non-null  float64\n",
      " 7   availableCountries  19684 non-null  object \n",
      "dtypes: float64(3), object(5)\n",
      "memory usage: 1.4+ MB\n"
     ]
    }
   ],
   "source": [
    "netflix_limpio.info()"
   ]
  },
  {
   "cell_type": "code",
   "execution_count": 9,
   "metadata": {},
   "outputs": [],
   "source": [
    "netflix_limpio=netflix_limpio.drop_duplicates()"
   ]
  },
  {
   "cell_type": "code",
   "execution_count": 10,
   "metadata": {},
   "outputs": [
    {
     "data": {
      "text/plain": [
       "title\n",
       "False    18937\n",
       "True      1258\n",
       "Name: count, dtype: int64"
      ]
     },
     "execution_count": 10,
     "metadata": {},
     "output_type": "execute_result"
    }
   ],
   "source": [
    "netflix[\"title\"].duplicated().value_counts()"
   ]
  },
  {
   "cell_type": "code",
   "execution_count": 11,
   "metadata": {},
   "outputs": [
    {
     "name": "stdout",
     "output_type": "stream",
     "text": [
      "<class 'pandas.core.frame.DataFrame'>\n",
      "Index: 18936 entries, 0 to 20194\n",
      "Data columns (total 8 columns):\n",
      " #   Column              Non-Null Count  Dtype  \n",
      "---  ------              --------------  -----  \n",
      " 0   title               18936 non-null  object \n",
      " 1   type                18936 non-null  object \n",
      " 2   genres              18810 non-null  object \n",
      " 3   releaseYear         18935 non-null  float64\n",
      " 4   imdbId              18217 non-null  object \n",
      " 5   imdbAverageRating   18088 non-null  float64\n",
      " 6   imdbNumVotes        18088 non-null  float64\n",
      " 7   availableCountries  18936 non-null  object \n",
      "dtypes: float64(3), object(5)\n",
      "memory usage: 1.3+ MB\n"
     ]
    }
   ],
   "source": [
    "netflix_limpio= netflix_limpio.drop_duplicates(subset=\"title\")\n",
    "netflix_limpio.info()"
   ]
  },
  {
   "cell_type": "code",
   "execution_count": 12,
   "metadata": {},
   "outputs": [
    {
     "name": "stdout",
     "output_type": "stream",
     "text": [
      "<class 'pandas.core.frame.DataFrame'>\n",
      "Index: 18936 entries, 0 to 20194\n",
      "Data columns (total 7 columns):\n",
      " #   Column              Non-Null Count  Dtype  \n",
      "---  ------              --------------  -----  \n",
      " 0   title               18936 non-null  object \n",
      " 1   type                18936 non-null  object \n",
      " 2   genres              18810 non-null  object \n",
      " 3   releaseYear         18935 non-null  float64\n",
      " 4   imdbAverageRating   18088 non-null  float64\n",
      " 5   imdbNumVotes        18088 non-null  float64\n",
      " 6   availableCountries  18936 non-null  object \n",
      "dtypes: float64(3), object(4)\n",
      "memory usage: 1.2+ MB\n"
     ]
    }
   ],
   "source": [
    "netflix_limpio= netflix_limpio.drop(columns=[\"imdbId\"])\n",
    "netflix_limpio.info()"
   ]
  },
  {
   "cell_type": "code",
   "execution_count": 13,
   "metadata": {},
   "outputs": [
    {
     "name": "stdout",
     "output_type": "stream",
     "text": [
      "<class 'pandas.core.frame.DataFrame'>\n",
      "Index: 18810 entries, 0 to 20187\n",
      "Data columns (total 7 columns):\n",
      " #   Column              Non-Null Count  Dtype  \n",
      "---  ------              --------------  -----  \n",
      " 0   title               18810 non-null  object \n",
      " 1   type                18810 non-null  object \n",
      " 2   genres              18810 non-null  object \n",
      " 3   releaseYear         18810 non-null  float64\n",
      " 4   imdbAverageRating   18088 non-null  float64\n",
      " 5   imdbNumVotes        18088 non-null  float64\n",
      " 6   availableCountries  18810 non-null  object \n",
      "dtypes: float64(3), object(4)\n",
      "memory usage: 1.1+ MB\n"
     ]
    }
   ],
   "source": [
    "#Elimino las filas con mas de 3 nulos. Sobretodo porque me interesa contar con el genero de los titulos y es una columna mas dificil de rellenar.\n",
    "netflix_limpio= netflix_limpio.dropna(thresh=(len(netflix_limpio.columns)-2))\n",
    "netflix_limpio.info()"
   ]
  },
  {
   "cell_type": "code",
   "execution_count": 14,
   "metadata": {},
   "outputs": [
    {
     "data": {
      "text/plain": [
       "type\n",
       "movie    14926\n",
       "tv        3884\n",
       "Name: count, dtype: int64"
      ]
     },
     "execution_count": 14,
     "metadata": {},
     "output_type": "execute_result"
    }
   ],
   "source": [
    "netflix_limpio.type.value_counts()"
   ]
  },
  {
   "cell_type": "code",
   "execution_count": 15,
   "metadata": {},
   "outputs": [],
   "source": [
    "netflix_nuevo_rellenado_nulos=netflix_limpio.copy()"
   ]
  },
  {
   "cell_type": "code",
   "execution_count": 16,
   "metadata": {},
   "outputs": [
    {
     "name": "stdout",
     "output_type": "stream",
     "text": [
      "6.2 7.0\n"
     ]
    }
   ],
   "source": [
    "#Voy a estudiar si estaría bien darle la media de rating segun el tipo\n",
    "peliculas_netflix_mediarating = round(netflix_limpio[netflix_limpio['type'] == 'movie']['imdbAverageRating'].mean(),1)\n",
    "series_netflix_mediarating = round(netflix_limpio[netflix_limpio['type'] == 'tv']['imdbAverageRating'].mean(),1)\n",
    "\n",
    "print(peliculas_netflix_mediarating,series_netflix_mediarating)"
   ]
  },
  {
   "cell_type": "code",
   "execution_count": 17,
   "metadata": {},
   "outputs": [],
   "source": [
    "#Efectivamente las medias de valoraciones de imdb suelen ser mas altas para las series que para las peliculas\n",
    "#  asi que le voy a dar a los nulos de rating la media según el tipo\n",
    "netflix_limpio.loc[(netflix_limpio['type'] == 'movie') & (netflix_limpio['imdbAverageRating'].isna()), 'imdbAverageRating'] = peliculas_netflix_mediarating\n",
    "netflix_limpio.loc[(netflix_limpio['type'] == 'tv') & (netflix_limpio['imdbAverageRating'].isna()), 'imdbAverageRating'] = series_netflix_mediarating"
   ]
  },
  {
   "cell_type": "code",
   "execution_count": 18,
   "metadata": {},
   "outputs": [
    {
     "name": "stdout",
     "output_type": "stream",
     "text": [
      "<class 'pandas.core.frame.DataFrame'>\n",
      "Index: 18810 entries, 0 to 20187\n",
      "Data columns (total 7 columns):\n",
      " #   Column              Non-Null Count  Dtype  \n",
      "---  ------              --------------  -----  \n",
      " 0   title               18810 non-null  object \n",
      " 1   type                18810 non-null  object \n",
      " 2   genres              18810 non-null  object \n",
      " 3   releaseYear         18810 non-null  float64\n",
      " 4   imdbAverageRating   18810 non-null  float64\n",
      " 5   imdbNumVotes        18088 non-null  float64\n",
      " 6   availableCountries  18810 non-null  object \n",
      "dtypes: float64(3), object(4)\n",
      "memory usage: 1.1+ MB\n"
     ]
    }
   ],
   "source": [
    "netflix_limpio.info()"
   ]
  },
  {
   "cell_type": "code",
   "execution_count": 19,
   "metadata": {},
   "outputs": [
    {
     "name": "stdout",
     "output_type": "stream",
     "text": [
      "36325.0 16650.0\n"
     ]
    }
   ],
   "source": [
    "#Compruebo lo mismo para el numero de votos\n",
    "peliculas_netflix_media_votos = round(netflix_limpio[netflix_limpio['type'] == 'movie']['imdbNumVotes'].mean(),0)\n",
    "series_netflix_media_votos = round(netflix_limpio[netflix_limpio['type'] == 'tv']['imdbNumVotes'].mean(),0)\n",
    "\n",
    "print(peliculas_netflix_media_votos,series_netflix_media_votos)"
   ]
  },
  {
   "cell_type": "code",
   "execution_count": 20,
   "metadata": {},
   "outputs": [],
   "source": [
    "#También era de esperar que el numero de valoraciones medio sule ser bastante mayor para las peliculas que para las series\n",
    "# Procedo a repartir medias segun el tipo también para esta variable\n",
    "netflix_limpio.loc[(netflix_limpio['type'] == 'movie') & (netflix_limpio['imdbNumVotes'].isna()), 'imdbNumVotes'] = peliculas_netflix_media_votos\n",
    "netflix_limpio.loc[(netflix_limpio['type'] == 'tv') & (netflix_limpio['imdbNumVotes'].isna()), 'imdbNumVotes'] = series_netflix_media_votos"
   ]
  },
  {
   "cell_type": "code",
   "execution_count": 21,
   "metadata": {},
   "outputs": [
    {
     "name": "stdout",
     "output_type": "stream",
     "text": [
      "<class 'pandas.core.frame.DataFrame'>\n",
      "Index: 18810 entries, 0 to 20187\n",
      "Data columns (total 7 columns):\n",
      " #   Column              Non-Null Count  Dtype  \n",
      "---  ------              --------------  -----  \n",
      " 0   title               18810 non-null  object \n",
      " 1   type                18810 non-null  object \n",
      " 2   genres              18810 non-null  object \n",
      " 3   releaseYear         18810 non-null  float64\n",
      " 4   imdbAverageRating   18810 non-null  float64\n",
      " 5   imdbNumVotes        18810 non-null  float64\n",
      " 6   availableCountries  18810 non-null  object \n",
      "dtypes: float64(3), object(4)\n",
      "memory usage: 1.1+ MB\n"
     ]
    }
   ],
   "source": [
    "netflix_limpio.info()"
   ]
  },
  {
   "cell_type": "code",
   "execution_count": 22,
   "metadata": {},
   "outputs": [
    {
     "data": {
      "text/plain": [
       "imdbNumVotes\n",
       "36325.0    701\n",
       "55.0        32\n",
       "39.0        30\n",
       "53.0        30\n",
       "51.0        30\n",
       "          ... \n",
       "4899.0       1\n",
       "2849.0       1\n",
       "2562.0       1\n",
       "3412.0       1\n",
       "4166.0       1\n",
       "Name: count, Length: 9168, dtype: int64"
      ]
     },
     "execution_count": 22,
     "metadata": {},
     "output_type": "execute_result"
    }
   ],
   "source": [
    "netflix_limpio[\"imdbNumVotes\"].value_counts() #Esto me chirría, tengo que mirar como hacer que no todos los valores nulos se cambien exactamente por la media porque puede fastidiar mis graficos\n",
    "#Que sentido tiene que 701 peliculas coincidan en el numero de votos, se sale de lo normal completamente"
   ]
  },
  {
   "cell_type": "code",
   "execution_count": 23,
   "metadata": {},
   "outputs": [
    {
     "name": "stdout",
     "output_type": "stream",
     "text": [
      "<class 'pandas.core.frame.DataFrame'>\n",
      "Index: 18810 entries, 0 to 20187\n",
      "Data columns (total 7 columns):\n",
      " #   Column              Non-Null Count  Dtype  \n",
      "---  ------              --------------  -----  \n",
      " 0   title               18810 non-null  object \n",
      " 1   type                18810 non-null  object \n",
      " 2   genres              18810 non-null  object \n",
      " 3   releaseYear         18810 non-null  float64\n",
      " 4   imdbAverageRating   18088 non-null  float64\n",
      " 5   imdbNumVotes        18088 non-null  float64\n",
      " 6   availableCountries  18810 non-null  object \n",
      "dtypes: float64(3), object(4)\n",
      "memory usage: 1.1+ MB\n"
     ]
    }
   ],
   "source": [
    "netflix_nuevo_rellenado_nulos.info()"
   ]
  },
  {
   "cell_type": "code",
   "execution_count": 24,
   "metadata": {},
   "outputs": [],
   "source": [
    "#Voy a probar con un sistema que he encontrado que funciona calculando media y desviación standard y rellenando los valores nulos con valores random que tienen en cuenta ambos valores\n",
    "#De esta forma no habrá tantos valores concentrados en la media"
   ]
  },
  {
   "cell_type": "code",
   "execution_count": 25,
   "metadata": {},
   "outputs": [],
   "source": [
    "nratings_peliculas_nulos = len(netflix_nuevo_rellenado_nulos[(netflix_nuevo_rellenado_nulos['type'] == 'movie') & (netflix_nuevo_rellenado_nulos['imdbAverageRating'].isna())])\n",
    "nratings_series_nulos = len(netflix_nuevo_rellenado_nulos[(netflix_nuevo_rellenado_nulos['type'] == 'tv') & (netflix_nuevo_rellenado_nulos['imdbAverageRating'].isna())])\n",
    "\n",
    "nvotos_peliculas_nulos = len(netflix_nuevo_rellenado_nulos[(netflix_nuevo_rellenado_nulos['type'] == 'movie') & (netflix_nuevo_rellenado_nulos['imdbNumVotes'].isna())])\n",
    "nvotos_series_nulos = len(netflix_nuevo_rellenado_nulos[(netflix_nuevo_rellenado_nulos['type'] == 'tv') & (netflix_nuevo_rellenado_nulos['imdbNumVotes'].isna())])\n",
    "#Calculo el numero de valores a rellenar"
   ]
  },
  {
   "cell_type": "code",
   "execution_count": 26,
   "metadata": {},
   "outputs": [],
   "source": [
    "#Calculo medias y desviaciones de Ratings y numero de votos\n",
    "peliculas_media_rating = netflix_nuevo_rellenado_nulos[netflix_nuevo_rellenado_nulos['type'] == 'movie']['imdbAverageRating'].mean()\n",
    "series_media_rating = netflix_nuevo_rellenado_nulos[netflix_nuevo_rellenado_nulos['type'] == 'tv']['imdbAverageRating'].mean()\n",
    "peliculas_std_rating = netflix_nuevo_rellenado_nulos[netflix_nuevo_rellenado_nulos['type'] == 'movie']['imdbAverageRating'].std()\n",
    "series_std_rating = netflix_nuevo_rellenado_nulos[netflix_nuevo_rellenado_nulos['type'] == 'tv']['imdbAverageRating'].std()\n",
    "\n",
    "peliculas_media_votos = netflix_nuevo_rellenado_nulos[netflix_nuevo_rellenado_nulos['type'] == 'movie']['imdbNumVotes'].mean()\n",
    "series_media_votos = netflix_nuevo_rellenado_nulos[netflix_nuevo_rellenado_nulos['type'] == 'tv']['imdbNumVotes'].mean()\n",
    "peliculas_std_votos = netflix_nuevo_rellenado_nulos[netflix_nuevo_rellenado_nulos['type'] == 'movie']['imdbNumVotes'].std()\n",
    "series_std_votos = netflix_nuevo_rellenado_nulos[netflix_nuevo_rellenado_nulos['type'] == 'tv']['imdbNumVotes'].std()"
   ]
  },
  {
   "cell_type": "code",
   "execution_count": 27,
   "metadata": {},
   "outputs": [],
   "source": [
    "#Relleno los nulos\n",
    "netflix_nuevo_rellenado_nulos.loc[(netflix_nuevo_rellenado_nulos['type'] == 'movie') & (netflix_nuevo_rellenado_nulos['imdbAverageRating'].isna()), 'imdbAverageRating']= np.random.normal(peliculas_media_rating, peliculas_std_rating, nratings_peliculas_nulos)\n",
    "netflix_nuevo_rellenado_nulos.loc[(netflix_nuevo_rellenado_nulos['type'] == 'tv') & (netflix_nuevo_rellenado_nulos['imdbAverageRating'].isna()), 'imdbAverageRating']= np.random.normal(series_media_rating, series_std_rating, nratings_series_nulos)\n",
    "\n",
    "netflix_nuevo_rellenado_nulos.loc[(netflix_nuevo_rellenado_nulos['type'] == 'movie') & (netflix_nuevo_rellenado_nulos['imdbNumVotes'].isna()), 'imdbNumVotes']= np.random.normal(peliculas_media_votos, peliculas_std_votos, nvotos_peliculas_nulos)\n",
    "netflix_nuevo_rellenado_nulos.loc[(netflix_nuevo_rellenado_nulos['type'] == 'tv') & (netflix_nuevo_rellenado_nulos['imdbNumVotes'].isna()), 'imdbNumVotes']= np.random.normal(series_media_votos, series_std_votos, nvotos_series_nulos)"
   ]
  },
  {
   "cell_type": "code",
   "execution_count": 28,
   "metadata": {},
   "outputs": [
    {
     "name": "stdout",
     "output_type": "stream",
     "text": [
      "<class 'pandas.core.frame.DataFrame'>\n",
      "Index: 18810 entries, 0 to 20187\n",
      "Data columns (total 7 columns):\n",
      " #   Column              Non-Null Count  Dtype  \n",
      "---  ------              --------------  -----  \n",
      " 0   title               18810 non-null  object \n",
      " 1   type                18810 non-null  object \n",
      " 2   genres              18810 non-null  object \n",
      " 3   releaseYear         18810 non-null  float64\n",
      " 4   imdbAverageRating   18810 non-null  float64\n",
      " 5   imdbNumVotes        18810 non-null  float64\n",
      " 6   availableCountries  18810 non-null  object \n",
      "dtypes: float64(3), object(4)\n",
      "memory usage: 1.1+ MB\n"
     ]
    }
   ],
   "source": [
    "netflix_nuevo_rellenado_nulos.info()"
   ]
  },
  {
   "cell_type": "code",
   "execution_count": 29,
   "metadata": {},
   "outputs": [
    {
     "data": {
      "text/plain": [
       "imdbNumVotes\n",
       "55.0         32\n",
       "39.0         30\n",
       "51.0         30\n",
       "53.0         30\n",
       "19.0         28\n",
       "             ..\n",
       "1111601.0     1\n",
       "446033.0      1\n",
       "212517.0      1\n",
       "1226977.0     1\n",
       "518792.0      1\n",
       "Name: count, Length: 9888, dtype: int64"
      ]
     },
     "execution_count": 29,
     "metadata": {},
     "output_type": "execute_result"
    }
   ],
   "source": [
    "netflix_nuevo_rellenado_nulos[\"imdbNumVotes\"].value_counts()"
   ]
  },
  {
   "cell_type": "code",
   "execution_count": 30,
   "metadata": {},
   "outputs": [
    {
     "data": {
      "text/plain": [
       "imdbAverageRating\n",
       "6.600000    770\n",
       "6.400000    750\n",
       "6.300000    741\n",
       "6.500000    729\n",
       "6.200000    724\n",
       "           ... \n",
       "8.533214      1\n",
       "6.767519      1\n",
       "5.459172      1\n",
       "9.143248      1\n",
       "4.046289      1\n",
       "Name: count, Length: 804, dtype: int64"
      ]
     },
     "execution_count": 30,
     "metadata": {},
     "output_type": "execute_result"
    }
   ],
   "source": [
    "netflix_nuevo_rellenado_nulos[\"imdbAverageRating\"].value_counts()"
   ]
  },
  {
   "cell_type": "code",
   "execution_count": 33,
   "metadata": {},
   "outputs": [],
   "source": [
    "netflix_limpio=netflix_nuevo_rellenado_nulos.copy()"
   ]
  },
  {
   "cell_type": "code",
   "execution_count": 31,
   "metadata": {},
   "outputs": [],
   "source": [
    "#Visto que todo es correcto procedo a diseñar las funciones a partir de lo que ya he hecho con netflix para aplicarlo a prime video y hbo,\n",
    "#  lo voy a meter todo dentro de una clase que meteré en el archivo limpieza.py"
   ]
  },
  {
   "cell_type": "code",
   "execution_count": 43,
   "metadata": {},
   "outputs": [],
   "source": [
    "class limpieza_v1:\n",
    "    def eliminar_nulos_title(self, df):\n",
    "        return df.dropna(subset=[\"title\"])\n",
    "\n",
    "    def eliminar_duplicados_completos(self, df):\n",
    "        return df.drop_duplicates()\n",
    "\n",
    "    def eliminar_duplicados_title(self, df):\n",
    "        return df.drop_duplicates(subset=\"title\")\n",
    "\n",
    "    def eliminar_columna_imdbId(self, df):\n",
    "        return df.drop(columns=[\"imdbId\"])\n",
    "\n",
    "    def eliminar_filas_con_muchos_nulos(self, df):\n",
    "        return df.dropna(thresh=(len(df.columns) - 2))\n",
    "\n",
    "    def rellenar_nulos_mejorada(self, df, columna):\n",
    "        grupos = df['type'].unique()\n",
    "        for grupo in grupos:\n",
    "            media = df[df['type'] == grupo][columna].mean()\n",
    "            std = df[df['type'] == grupo][columna].std()\n",
    "            n_nulos = len(df[(df['type'] == grupo) & (df[columna].isna())])\n",
    "            df.loc[(df['type'] == grupo) & (df[columna].isna()), columna] = np.random.normal(media, std, n_nulos)\n",
    "        return df\n",
    "\n",
    "    def limpiar_dataset(self, df):\n",
    "        df = self.eliminar_nulos_title(df)\n",
    "        df = self.eliminar_duplicados_completos(df)\n",
    "        df = self.eliminar_duplicados_title(df)\n",
    "        df = self.eliminar_columna_imdbId(df)\n",
    "        df = self.eliminar_filas_con_muchos_nulos(df)\n",
    "        df = self.rellenar_nulos_mejorada(df, 'imdbAverageRating')\n",
    "        df = self.rellenar_nulos_mejorada(df, 'imdbNumVotes')\n",
    "        return df"
   ]
  },
  {
   "cell_type": "code",
   "execution_count": 38,
   "metadata": {},
   "outputs": [],
   "source": [
    "limpiador=limpieza()"
   ]
  },
  {
   "cell_type": "code",
   "execution_count": 50,
   "metadata": {},
   "outputs": [],
   "source": [
    "amazon_limpio=limpiador.limpiar_dataset(df=amazon)\n",
    "hbo_limpio=limpiador.limpiar_dataset(df=hbo)"
   ]
  },
  {
   "cell_type": "code",
   "execution_count": 51,
   "metadata": {},
   "outputs": [
    {
     "name": "stdout",
     "output_type": "stream",
     "text": [
      "<class 'pandas.core.frame.DataFrame'>\n",
      "Index: 61284 entries, 0 to 68619\n",
      "Data columns (total 7 columns):\n",
      " #   Column              Non-Null Count  Dtype  \n",
      "---  ------              --------------  -----  \n",
      " 0   title               61284 non-null  object \n",
      " 1   type                61284 non-null  object \n",
      " 2   genres              61235 non-null  object \n",
      " 3   releaseYear         61284 non-null  float64\n",
      " 4   imdbAverageRating   61284 non-null  float64\n",
      " 5   imdbNumVotes        61284 non-null  float64\n",
      " 6   availableCountries  61284 non-null  object \n",
      "dtypes: float64(3), object(4)\n",
      "memory usage: 3.7+ MB\n"
     ]
    }
   ],
   "source": [
    "amazon_limpio.info()"
   ]
  },
  {
   "cell_type": "code",
   "execution_count": 52,
   "metadata": {},
   "outputs": [
    {
     "name": "stdout",
     "output_type": "stream",
     "text": [
      "<class 'pandas.core.frame.DataFrame'>\n",
      "Index: 6932 entries, 0 to 7341\n",
      "Data columns (total 7 columns):\n",
      " #   Column              Non-Null Count  Dtype  \n",
      "---  ------              --------------  -----  \n",
      " 0   title               6932 non-null   object \n",
      " 1   type                6932 non-null   object \n",
      " 2   genres              6925 non-null   object \n",
      " 3   releaseYear         6932 non-null   float64\n",
      " 4   imdbAverageRating   6932 non-null   float64\n",
      " 5   imdbNumVotes        6932 non-null   float64\n",
      " 6   availableCountries  6932 non-null   object \n",
      "dtypes: float64(3), object(4)\n",
      "memory usage: 433.2+ KB\n"
     ]
    }
   ],
   "source": [
    "hbo_limpio.info()"
   ]
  },
  {
   "cell_type": "code",
   "execution_count": null,
   "metadata": {},
   "outputs": [],
   "source": [
    "#Me sigue quedando un desajuste en los generos en las otras dos tablas, voy a añadir a la clase que al final elimne todas las filas con nulos en genre"
   ]
  },
  {
   "cell_type": "code",
   "execution_count": 46,
   "metadata": {},
   "outputs": [],
   "source": [
    "class limpieza:\n",
    "    def eliminar_nulos_title(self, df):\n",
    "        return df.dropna(subset=[\"title\"])\n",
    "\n",
    "    def eliminar_duplicados_completos(self, df):\n",
    "        return df.drop_duplicates()\n",
    "\n",
    "    def eliminar_duplicados_title(self, df):\n",
    "        return df.drop_duplicates(subset=\"title\")\n",
    "\n",
    "    def eliminar_columna_imdbId(self, df):\n",
    "        return df.drop(columns=[\"imdbId\"])\n",
    "    \n",
    "    def eliminar_filas_con_muchos_nulos(self, df):\n",
    "        max_nulos = len(df.columns) - 2\n",
    "        return df.dropna(thresh=max_nulos)\n",
    "    \n",
    "    def eliminar_filas_con_genres_nulo(self, df):\n",
    "        return df.dropna(subset=[\"genres\"])\n",
    "\n",
    "    def rellenar_nulos_mejorada(self, df, columna):\n",
    "        grupos = df['type'].unique()\n",
    "        for grupo in grupos:\n",
    "            media = df[df['type'] == grupo][columna].mean()\n",
    "            std = df[df['type'] == grupo][columna].std()\n",
    "            n_nulos = len(df[(df['type'] == grupo) & (df[columna].isna())])\n",
    "            df.loc[(df['type'] == grupo) & (df[columna].isna()), columna] = np.random.normal(media, std, n_nulos)\n",
    "        return df\n",
    "    \n",
    "\n",
    "    def limpiar_dataset(self, df):\n",
    "        df = self.eliminar_nulos_title(df)\n",
    "        df = self.eliminar_duplicados_completos(df)\n",
    "        df = self.eliminar_duplicados_title(df)\n",
    "        df = self.eliminar_columna_imdbId(df)\n",
    "        df = self.eliminar_filas_con_muchos_nulos(df)\n",
    "        df = self.eliminar_filas_con_genres_nulo(df)\n",
    "        df = self.rellenar_nulos_mejorada(df, 'imdbAverageRating')\n",
    "        df = self.rellenar_nulos_mejorada(df, 'imdbNumVotes')\n",
    "        return df"
   ]
  },
  {
   "cell_type": "markdown",
   "metadata": {},
   "source": [
    "### Nuevas Reglas De Limpieza\n",
    "1. Eliminar filas con nulos en la columna \"title\"\n",
    "2. Eliminar duplicados \n",
    "3. Drop de la columna imbdId\n",
    "4. Eliminar filas con mas de 2 nulos\n",
    "5. Eliminar filas con nulos en \"genres\"\n",
    "6. rellenado de nulos en ratings y numero de votos con medias, desviaciones tipicas y valores aleatorios basados en ambas\n",
    "7. Revisar y limpieza y recorregir"
   ]
  },
  {
   "cell_type": "markdown",
   "metadata": {},
   "source": []
  }
 ],
 "metadata": {
  "kernelspec": {
   "display_name": "Python 3",
   "language": "python",
   "name": "python3"
  },
  "language_info": {
   "codemirror_mode": {
    "name": "ipython",
    "version": 3
   },
   "file_extension": ".py",
   "mimetype": "text/x-python",
   "name": "python",
   "nbconvert_exporter": "python",
   "pygments_lexer": "ipython3",
   "version": "3.11.3"
  }
 },
 "nbformat": 4,
 "nbformat_minor": 2
}
